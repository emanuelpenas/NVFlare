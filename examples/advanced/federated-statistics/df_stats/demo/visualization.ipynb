{
 "cells": [
  {
   "cell_type": "markdown",
   "id": "7c4be7b0",
   "metadata": {},
   "source": [
    "# NVFLARE Federated Statistics Visualization"
   ]
  },
  {
   "cell_type": "markdown",
   "id": "987e6028",
   "metadata": {},
   "source": [
    "#### dependencies\n",
    "\n",
    "To run examples, you might need to install the dependencies\n",
    "* numpy\n",
    "* pandas\n",
    "* wget\n",
    "* matplotlib\n",
    "* jupyter\n",
    "* notebook\n",
    "\n",
    "These are captured in the requirements.txt"
   ]
  },
  {
   "cell_type": "markdown",
   "id": "665dc17e",
   "metadata": {},
   "source": [
    "## Tabular Data Statistics Visualization\n",
    "In this example, we demonstate how to visualize the results from the statistics of tabular data. The visualization requires json, pandas, matplotlib modules as well as nvflare visualization utlities. "
   ]
  },
  {
   "cell_type": "code",
   "execution_count": 1,
   "id": "c44a0217",
   "metadata": {
    "ExecuteTime": {
     "end_time": "2024-03-27T14:43:27.327942600Z",
     "start_time": "2024-03-27T14:43:23.843645300Z"
    },
    "tags": []
   },
   "outputs": [],
   "source": [
    "import json\n",
    "import pandas as pd\n",
    "\n",
    "from nvflare.app_opt.statistics.visualization.statistics_visualization import Visualization"
   ]
  },
  {
   "cell_type": "markdown",
   "id": "30c79d1a",
   "metadata": {},
   "source": [
    "First, copy the resulting json file to demo directory. In this example, resulting file is called adults_stats.json. Then load json file"
   ]
  },
  {
   "cell_type": "code",
   "execution_count": 2,
   "id": "44f6bed2",
   "metadata": {
    "ExecuteTime": {
     "end_time": "2024-03-27T14:43:27.360831400Z",
     "start_time": "2024-03-27T14:43:27.327942600Z"
    },
    "tags": []
   },
   "outputs": [],
   "source": [
    "with open('adults_stats.json', 'r') as f:\n",
    "    data = json.load(f)"
   ]
  },
  {
   "cell_type": "markdown",
   "id": "c5cdbcc0",
   "metadata": {},
   "source": [
    "Initialize the Visualization utilities"
   ]
  },
  {
   "cell_type": "code",
   "execution_count": 3,
   "id": "93c62d5e",
   "metadata": {
    "ExecuteTime": {
     "end_time": "2024-03-27T14:43:27.441014300Z",
     "start_time": "2024-03-27T14:43:27.355307600Z"
    },
    "tags": []
   },
   "outputs": [],
   "source": [
    "vis = Visualization()"
   ]
  },
  {
   "cell_type": "markdown",
   "id": "1b0f21fd",
   "metadata": {},
   "source": [
    "### Overall Statistics"
   ]
  },
  {
   "cell_type": "markdown",
   "id": "b49588c2",
   "metadata": {},
   "source": [
    "vis.show_statis() will show the statistics for each features, at each site for each dataset"
   ]
  },
  {
   "cell_type": "code",
   "execution_count": 4,
   "id": "ab771712",
   "metadata": {
    "ExecuteTime": {
     "end_time": "2024-03-27T14:43:28.481887300Z",
     "start_time": "2024-03-27T14:43:27.368963Z"
    },
    "tags": []
   },
   "outputs": [
    {
     "name": "stdout",
     "output_type": "stream",
     "text": [
      "\n",
      "fnlwgt\n"
     ]
    },
    {
     "data": {
      "text/html": [
       "<div>\n",
       "<style scoped>\n",
       "    .dataframe tbody tr th:only-of-type {\n",
       "        vertical-align: middle;\n",
       "    }\n",
       "\n",
       "    .dataframe tbody tr th {\n",
       "        vertical-align: top;\n",
       "    }\n",
       "\n",
       "    .dataframe thead th {\n",
       "        text-align: right;\n",
       "    }\n",
       "</style>\n",
       "<table border=\"1\" class=\"dataframe\">\n",
       "  <thead>\n",
       "    <tr style=\"text-align: right;\">\n",
       "      <th></th>\n",
       "      <th>count</th>\n",
       "      <th>mean</th>\n",
       "      <th>sum</th>\n",
       "      <th>stddev</th>\n",
       "      <th>histogram</th>\n",
       "    </tr>\n",
       "  </thead>\n",
       "  <tbody>\n",
       "    <tr>\n",
       "      <th>site-2-train</th>\n",
       "      <td>13025</td>\n",
       "      <td>188481.0292</td>\n",
       "      <td>2.454965e+09</td>\n",
       "      <td>105450.3575</td>\n",
       "      <td>[[12285.0, 86190.75, 1834], [86190.75, 160096....</td>\n",
       "    </tr>\n",
       "    <tr>\n",
       "      <th>site-2-test</th>\n",
       "      <td>3256</td>\n",
       "      <td>193254.5654</td>\n",
       "      <td>6.292369e+08</td>\n",
       "      <td>106697.5339</td>\n",
       "      <td>[[12285.0, 86190.75, 415], [86190.75, 160096.5...</td>\n",
       "    </tr>\n",
       "    <tr>\n",
       "      <th>site-1-train</th>\n",
       "      <td>26049</td>\n",
       "      <td>190351.4321</td>\n",
       "      <td>4.958464e+09</td>\n",
       "      <td>106042.9510</td>\n",
       "      <td>[[12285.0, 86190.75, 3569], [86190.75, 160096....</td>\n",
       "    </tr>\n",
       "    <tr>\n",
       "      <th>site-1-test</th>\n",
       "      <td>6512</td>\n",
       "      <td>187486.0160</td>\n",
       "      <td>1.220909e+09</td>\n",
       "      <td>103530.8485</td>\n",
       "      <td>[[12285.0, 86190.75, 935], [86190.75, 160096.5...</td>\n",
       "    </tr>\n",
       "    <tr>\n",
       "      <th>Global-train</th>\n",
       "      <td>39074</td>\n",
       "      <td>189727.9485</td>\n",
       "      <td>7.413430e+09</td>\n",
       "      <td>105848.1066</td>\n",
       "      <td>[[12285.0, 86190.75, 5403], [86190.75, 160096....</td>\n",
       "    </tr>\n",
       "    <tr>\n",
       "      <th>Global-test</th>\n",
       "      <td>9768</td>\n",
       "      <td>189408.8658</td>\n",
       "      <td>1.850146e+09</td>\n",
       "      <td>104626.9479</td>\n",
       "      <td>[[12285.0, 86190.75, 1350], [86190.75, 160096....</td>\n",
       "    </tr>\n",
       "  </tbody>\n",
       "</table>\n",
       "</div>"
      ],
      "text/plain": [
       "              count         mean           sum       stddev  \\\n",
       "site-2-train  13025  188481.0292  2.454965e+09  105450.3575   \n",
       "site-2-test    3256  193254.5654  6.292369e+08  106697.5339   \n",
       "site-1-train  26049  190351.4321  4.958464e+09  106042.9510   \n",
       "site-1-test    6512  187486.0160  1.220909e+09  103530.8485   \n",
       "Global-train  39074  189727.9485  7.413430e+09  105848.1066   \n",
       "Global-test    9768  189408.8658  1.850146e+09  104626.9479   \n",
       "\n",
       "                                                      histogram  \n",
       "site-2-train  [[12285.0, 86190.75, 1834], [86190.75, 160096....  \n",
       "site-2-test   [[12285.0, 86190.75, 415], [86190.75, 160096.5...  \n",
       "site-1-train  [[12285.0, 86190.75, 3569], [86190.75, 160096....  \n",
       "site-1-test   [[12285.0, 86190.75, 935], [86190.75, 160096.5...  \n",
       "Global-train  [[12285.0, 86190.75, 5403], [86190.75, 160096....  \n",
       "Global-test   [[12285.0, 86190.75, 1350], [86190.75, 160096....  "
      ]
     },
     "metadata": {},
     "output_type": "display_data"
    },
    {
     "name": "stdout",
     "output_type": "stream",
     "text": [
      "\n",
      "Education-Num\n"
     ]
    },
    {
     "data": {
      "text/html": [
       "<div>\n",
       "<style scoped>\n",
       "    .dataframe tbody tr th:only-of-type {\n",
       "        vertical-align: middle;\n",
       "    }\n",
       "\n",
       "    .dataframe tbody tr th {\n",
       "        vertical-align: top;\n",
       "    }\n",
       "\n",
       "    .dataframe thead th {\n",
       "        text-align: right;\n",
       "    }\n",
       "</style>\n",
       "<table border=\"1\" class=\"dataframe\">\n",
       "  <thead>\n",
       "    <tr style=\"text-align: right;\">\n",
       "      <th></th>\n",
       "      <th>count</th>\n",
       "      <th>mean</th>\n",
       "      <th>sum</th>\n",
       "      <th>stddev</th>\n",
       "      <th>histogram</th>\n",
       "    </tr>\n",
       "  </thead>\n",
       "  <tbody>\n",
       "    <tr>\n",
       "      <th>site-2-train</th>\n",
       "      <td>13025</td>\n",
       "      <td>10.0551</td>\n",
       "      <td>130968.0</td>\n",
       "      <td>2.5686</td>\n",
       "      <td>[[1.0, 1.75, 30], [1.75, 2.5, 62], [2.5, 3.25,...</td>\n",
       "    </tr>\n",
       "    <tr>\n",
       "      <th>site-2-test</th>\n",
       "      <td>3256</td>\n",
       "      <td>10.1440</td>\n",
       "      <td>33029.0</td>\n",
       "      <td>2.5624</td>\n",
       "      <td>[[1.0, 1.75, 2], [1.75, 2.5, 17], [2.5, 3.25, ...</td>\n",
       "    </tr>\n",
       "    <tr>\n",
       "      <th>site-1-train</th>\n",
       "      <td>26049</td>\n",
       "      <td>10.0779</td>\n",
       "      <td>262518.0</td>\n",
       "      <td>2.5685</td>\n",
       "      <td>[[1.0, 1.75, 40], [1.75, 2.5, 140], [2.5, 3.25...</td>\n",
       "    </tr>\n",
       "    <tr>\n",
       "      <th>site-1-test</th>\n",
       "      <td>6512</td>\n",
       "      <td>10.0920</td>\n",
       "      <td>65719.0</td>\n",
       "      <td>2.5896</td>\n",
       "      <td>[[1.0, 1.75, 11], [1.75, 2.5, 28], [2.5, 3.25,...</td>\n",
       "    </tr>\n",
       "    <tr>\n",
       "      <th>Global-train</th>\n",
       "      <td>39074</td>\n",
       "      <td>10.0703</td>\n",
       "      <td>393486.0</td>\n",
       "      <td>2.5685</td>\n",
       "      <td>[[1.0, 1.75, 70], [1.75, 2.5, 202], [2.5, 3.25...</td>\n",
       "    </tr>\n",
       "    <tr>\n",
       "      <th>Global-test</th>\n",
       "      <td>9768</td>\n",
       "      <td>10.1093</td>\n",
       "      <td>98748.0</td>\n",
       "      <td>2.5806</td>\n",
       "      <td>[[1.0, 1.75, 13], [1.75, 2.5, 45], [2.5, 3.25,...</td>\n",
       "    </tr>\n",
       "  </tbody>\n",
       "</table>\n",
       "</div>"
      ],
      "text/plain": [
       "              count     mean       sum  stddev  \\\n",
       "site-2-train  13025  10.0551  130968.0  2.5686   \n",
       "site-2-test    3256  10.1440   33029.0  2.5624   \n",
       "site-1-train  26049  10.0779  262518.0  2.5685   \n",
       "site-1-test    6512  10.0920   65719.0  2.5896   \n",
       "Global-train  39074  10.0703  393486.0  2.5685   \n",
       "Global-test    9768  10.1093   98748.0  2.5806   \n",
       "\n",
       "                                                      histogram  \n",
       "site-2-train  [[1.0, 1.75, 30], [1.75, 2.5, 62], [2.5, 3.25,...  \n",
       "site-2-test   [[1.0, 1.75, 2], [1.75, 2.5, 17], [2.5, 3.25, ...  \n",
       "site-1-train  [[1.0, 1.75, 40], [1.75, 2.5, 140], [2.5, 3.25...  \n",
       "site-1-test   [[1.0, 1.75, 11], [1.75, 2.5, 28], [2.5, 3.25,...  \n",
       "Global-train  [[1.0, 1.75, 70], [1.75, 2.5, 202], [2.5, 3.25...  \n",
       "Global-test   [[1.0, 1.75, 13], [1.75, 2.5, 45], [2.5, 3.25,...  "
      ]
     },
     "metadata": {},
     "output_type": "display_data"
    },
    {
     "name": "stdout",
     "output_type": "stream",
     "text": [
      "\n",
      "Capital Gain\n"
     ]
    },
    {
     "data": {
      "text/html": [
       "<div>\n",
       "<style scoped>\n",
       "    .dataframe tbody tr th:only-of-type {\n",
       "        vertical-align: middle;\n",
       "    }\n",
       "\n",
       "    .dataframe tbody tr th {\n",
       "        vertical-align: top;\n",
       "    }\n",
       "\n",
       "    .dataframe thead th {\n",
       "        text-align: right;\n",
       "    }\n",
       "</style>\n",
       "<table border=\"1\" class=\"dataframe\">\n",
       "  <thead>\n",
       "    <tr style=\"text-align: right;\">\n",
       "      <th></th>\n",
       "      <th>count</th>\n",
       "      <th>mean</th>\n",
       "      <th>sum</th>\n",
       "      <th>stddev</th>\n",
       "      <th>histogram</th>\n",
       "    </tr>\n",
       "  </thead>\n",
       "  <tbody>\n",
       "    <tr>\n",
       "      <th>site-2-train</th>\n",
       "      <td>13025</td>\n",
       "      <td>1052.3022</td>\n",
       "      <td>13706236.0</td>\n",
       "      <td>7430.6966</td>\n",
       "      <td>[[0.0, 4999.95, 12387], [4999.95, 9999.9, 351]...</td>\n",
       "    </tr>\n",
       "    <tr>\n",
       "      <th>site-2-test</th>\n",
       "      <td>3256</td>\n",
       "      <td>1200.3259</td>\n",
       "      <td>3908261.0</td>\n",
       "      <td>8168.3767</td>\n",
       "      <td>[[0.0, 4999.95, 3091], [4999.95, 9999.9, 88], ...</td>\n",
       "    </tr>\n",
       "    <tr>\n",
       "      <th>site-1-train</th>\n",
       "      <td>26049</td>\n",
       "      <td>1080.5046</td>\n",
       "      <td>28146065.0</td>\n",
       "      <td>7411.4217</td>\n",
       "      <td>[[0.0, 4999.95, 24733], [4999.95, 9999.9, 701]...</td>\n",
       "    </tr>\n",
       "    <tr>\n",
       "      <th>site-1-test</th>\n",
       "      <td>6512</td>\n",
       "      <td>1066.2253</td>\n",
       "      <td>6943259.0</td>\n",
       "      <td>7280.3835</td>\n",
       "      <td>[[0.0, 4999.95, 6180], [4999.95, 9999.9, 177],...</td>\n",
       "    </tr>\n",
       "    <tr>\n",
       "      <th>Global-train</th>\n",
       "      <td>39074</td>\n",
       "      <td>1071.1036</td>\n",
       "      <td>41852301.0</td>\n",
       "      <td>7417.7692</td>\n",
       "      <td>[[0.0, 4999.95, 37120], [4999.95, 9999.9, 1052...</td>\n",
       "    </tr>\n",
       "    <tr>\n",
       "      <th>Global-test</th>\n",
       "      <td>9768</td>\n",
       "      <td>1110.9255</td>\n",
       "      <td>10851520.0</td>\n",
       "      <td>7587.7807</td>\n",
       "      <td>[[0.0, 4999.95, 9271], [4999.95, 9999.9, 265],...</td>\n",
       "    </tr>\n",
       "  </tbody>\n",
       "</table>\n",
       "</div>"
      ],
      "text/plain": [
       "              count       mean         sum     stddev  \\\n",
       "site-2-train  13025  1052.3022  13706236.0  7430.6966   \n",
       "site-2-test    3256  1200.3259   3908261.0  8168.3767   \n",
       "site-1-train  26049  1080.5046  28146065.0  7411.4217   \n",
       "site-1-test    6512  1066.2253   6943259.0  7280.3835   \n",
       "Global-train  39074  1071.1036  41852301.0  7417.7692   \n",
       "Global-test    9768  1110.9255  10851520.0  7587.7807   \n",
       "\n",
       "                                                      histogram  \n",
       "site-2-train  [[0.0, 4999.95, 12387], [4999.95, 9999.9, 351]...  \n",
       "site-2-test   [[0.0, 4999.95, 3091], [4999.95, 9999.9, 88], ...  \n",
       "site-1-train  [[0.0, 4999.95, 24733], [4999.95, 9999.9, 701]...  \n",
       "site-1-test   [[0.0, 4999.95, 6180], [4999.95, 9999.9, 177],...  \n",
       "Global-train  [[0.0, 4999.95, 37120], [4999.95, 9999.9, 1052...  \n",
       "Global-test   [[0.0, 4999.95, 9271], [4999.95, 9999.9, 265],...  "
      ]
     },
     "metadata": {},
     "output_type": "display_data"
    },
    {
     "name": "stdout",
     "output_type": "stream",
     "text": [
      "\n",
      "Capital Loss\n"
     ]
    },
    {
     "data": {
      "text/html": [
       "<div>\n",
       "<style scoped>\n",
       "    .dataframe tbody tr th:only-of-type {\n",
       "        vertical-align: middle;\n",
       "    }\n",
       "\n",
       "    .dataframe tbody tr th {\n",
       "        vertical-align: top;\n",
       "    }\n",
       "\n",
       "    .dataframe thead th {\n",
       "        text-align: right;\n",
       "    }\n",
       "</style>\n",
       "<table border=\"1\" class=\"dataframe\">\n",
       "  <thead>\n",
       "    <tr style=\"text-align: right;\">\n",
       "      <th></th>\n",
       "      <th>count</th>\n",
       "      <th>mean</th>\n",
       "      <th>sum</th>\n",
       "      <th>stddev</th>\n",
       "      <th>histogram</th>\n",
       "    </tr>\n",
       "  </thead>\n",
       "  <tbody>\n",
       "    <tr>\n",
       "      <th>site-2-train</th>\n",
       "      <td>13025</td>\n",
       "      <td>85.4210</td>\n",
       "      <td>1112608.0</td>\n",
       "      <td>397.5111</td>\n",
       "      <td>[[0.0, 217.8, 12431], [217.8, 435.6, 2], [435....</td>\n",
       "    </tr>\n",
       "    <tr>\n",
       "      <th>site-2-test</th>\n",
       "      <td>3256</td>\n",
       "      <td>97.8133</td>\n",
       "      <td>318480.0</td>\n",
       "      <td>424.6664</td>\n",
       "      <td>[[0.0, 217.8, 3088], [217.8, 435.6, 0], [435.6...</td>\n",
       "    </tr>\n",
       "    <tr>\n",
       "      <th>site-1-train</th>\n",
       "      <td>26049</td>\n",
       "      <td>85.9272</td>\n",
       "      <td>2238317.0</td>\n",
       "      <td>399.6418</td>\n",
       "      <td>[[0.0, 217.8, 24854], [217.8, 435.6, 6], [435....</td>\n",
       "    </tr>\n",
       "    <tr>\n",
       "      <th>site-1-test</th>\n",
       "      <td>6512</td>\n",
       "      <td>92.8107</td>\n",
       "      <td>604383.0</td>\n",
       "      <td>415.9555</td>\n",
       "      <td>[[0.0, 217.8, 6193], [217.8, 435.6, 0], [435.6...</td>\n",
       "    </tr>\n",
       "    <tr>\n",
       "      <th>Global-train</th>\n",
       "      <td>39074</td>\n",
       "      <td>85.7584</td>\n",
       "      <td>3350925.0</td>\n",
       "      <td>398.9278</td>\n",
       "      <td>[[0.0, 217.8, 37285], [217.8, 435.6, 8], [435....</td>\n",
       "    </tr>\n",
       "    <tr>\n",
       "      <th>Global-test</th>\n",
       "      <td>9768</td>\n",
       "      <td>94.4782</td>\n",
       "      <td>922863.0</td>\n",
       "      <td>418.8642</td>\n",
       "      <td>[[0.0, 217.8, 9281], [217.8, 435.6, 0], [435.6...</td>\n",
       "    </tr>\n",
       "  </tbody>\n",
       "</table>\n",
       "</div>"
      ],
      "text/plain": [
       "              count     mean        sum    stddev  \\\n",
       "site-2-train  13025  85.4210  1112608.0  397.5111   \n",
       "site-2-test    3256  97.8133   318480.0  424.6664   \n",
       "site-1-train  26049  85.9272  2238317.0  399.6418   \n",
       "site-1-test    6512  92.8107   604383.0  415.9555   \n",
       "Global-train  39074  85.7584  3350925.0  398.9278   \n",
       "Global-test    9768  94.4782   922863.0  418.8642   \n",
       "\n",
       "                                                      histogram  \n",
       "site-2-train  [[0.0, 217.8, 12431], [217.8, 435.6, 2], [435....  \n",
       "site-2-test   [[0.0, 217.8, 3088], [217.8, 435.6, 0], [435.6...  \n",
       "site-1-train  [[0.0, 217.8, 24854], [217.8, 435.6, 6], [435....  \n",
       "site-1-test   [[0.0, 217.8, 6193], [217.8, 435.6, 0], [435.6...  \n",
       "Global-train  [[0.0, 217.8, 37285], [217.8, 435.6, 8], [435....  \n",
       "Global-test   [[0.0, 217.8, 9281], [217.8, 435.6, 0], [435.6...  "
      ]
     },
     "metadata": {},
     "output_type": "display_data"
    },
    {
     "name": "stdout",
     "output_type": "stream",
     "text": [
      "\n",
      "Hours per week\n"
     ]
    },
    {
     "data": {
      "text/html": [
       "<div>\n",
       "<style scoped>\n",
       "    .dataframe tbody tr th:only-of-type {\n",
       "        vertical-align: middle;\n",
       "    }\n",
       "\n",
       "    .dataframe tbody tr th {\n",
       "        vertical-align: top;\n",
       "    }\n",
       "\n",
       "    .dataframe thead th {\n",
       "        text-align: right;\n",
       "    }\n",
       "</style>\n",
       "<table border=\"1\" class=\"dataframe\">\n",
       "  <thead>\n",
       "    <tr style=\"text-align: right;\">\n",
       "      <th></th>\n",
       "      <th>count</th>\n",
       "      <th>mean</th>\n",
       "      <th>sum</th>\n",
       "      <th>stddev</th>\n",
       "      <th>histogram</th>\n",
       "    </tr>\n",
       "  </thead>\n",
       "  <tbody>\n",
       "    <tr>\n",
       "      <th>site-2-train</th>\n",
       "      <td>13025</td>\n",
       "      <td>40.4143</td>\n",
       "      <td>526396.0</td>\n",
       "      <td>12.4146</td>\n",
       "      <td>[[1.0, 5.9, 81], [5.9, 10.8, 219], [10.8, 15.7...</td>\n",
       "    </tr>\n",
       "    <tr>\n",
       "      <th>site-2-test</th>\n",
       "      <td>3256</td>\n",
       "      <td>40.3041</td>\n",
       "      <td>131230.0</td>\n",
       "      <td>12.7366</td>\n",
       "      <td>[[1.0, 5.9, 32], [5.9, 10.8, 57], [10.8, 15.7,...</td>\n",
       "    </tr>\n",
       "    <tr>\n",
       "      <th>site-1-train</th>\n",
       "      <td>26049</td>\n",
       "      <td>40.4280</td>\n",
       "      <td>1053109.0</td>\n",
       "      <td>12.3635</td>\n",
       "      <td>[[1.0, 5.9, 173], [5.9, 10.8, 422], [10.8, 15....</td>\n",
       "    </tr>\n",
       "    <tr>\n",
       "      <th>site-1-test</th>\n",
       "      <td>6512</td>\n",
       "      <td>40.4753</td>\n",
       "      <td>263575.0</td>\n",
       "      <td>12.2840</td>\n",
       "      <td>[[1.0, 5.9, 32], [5.9, 10.8, 109], [10.8, 15.7...</td>\n",
       "    </tr>\n",
       "    <tr>\n",
       "      <th>Global-train</th>\n",
       "      <td>39074</td>\n",
       "      <td>40.4234</td>\n",
       "      <td>1579505.0</td>\n",
       "      <td>12.3804</td>\n",
       "      <td>[[1.0, 5.9, 254], [5.9, 10.8, 641], [10.8, 15....</td>\n",
       "    </tr>\n",
       "    <tr>\n",
       "      <th>Global-test</th>\n",
       "      <td>9768</td>\n",
       "      <td>40.4182</td>\n",
       "      <td>394805.0</td>\n",
       "      <td>12.4363</td>\n",
       "      <td>[[1.0, 5.9, 64], [5.9, 10.8, 166], [10.8, 15.7...</td>\n",
       "    </tr>\n",
       "  </tbody>\n",
       "</table>\n",
       "</div>"
      ],
      "text/plain": [
       "              count     mean        sum   stddev  \\\n",
       "site-2-train  13025  40.4143   526396.0  12.4146   \n",
       "site-2-test    3256  40.3041   131230.0  12.7366   \n",
       "site-1-train  26049  40.4280  1053109.0  12.3635   \n",
       "site-1-test    6512  40.4753   263575.0  12.2840   \n",
       "Global-train  39074  40.4234  1579505.0  12.3804   \n",
       "Global-test    9768  40.4182   394805.0  12.4363   \n",
       "\n",
       "                                                      histogram  \n",
       "site-2-train  [[1.0, 5.9, 81], [5.9, 10.8, 219], [10.8, 15.7...  \n",
       "site-2-test   [[1.0, 5.9, 32], [5.9, 10.8, 57], [10.8, 15.7,...  \n",
       "site-1-train  [[1.0, 5.9, 173], [5.9, 10.8, 422], [10.8, 15....  \n",
       "site-1-test   [[1.0, 5.9, 32], [5.9, 10.8, 109], [10.8, 15.7...  \n",
       "Global-train  [[1.0, 5.9, 254], [5.9, 10.8, 641], [10.8, 15....  \n",
       "Global-test   [[1.0, 5.9, 64], [5.9, 10.8, 166], [10.8, 15.7...  "
      ]
     },
     "metadata": {},
     "output_type": "display_data"
    }
   ],
   "source": [
    "\n",
    "vis.show_stats(data = data)"
   ]
  },
  {
   "cell_type": "markdown",
   "id": "4986dd14",
   "metadata": {},
   "source": [
    "### select features statistics using white_list_features \n",
    "user can optionally select only show specified features via white_list_features arguments. In the following, we only selected three features instead of all the features"
   ]
  },
  {
   "cell_type": "code",
   "execution_count": 5,
   "id": "563a8bb7",
   "metadata": {
    "ExecuteTime": {
     "end_time": "2024-03-27T14:43:29.920580500Z",
     "start_time": "2024-03-27T14:43:27.807850200Z"
    },
    "tags": []
   },
   "outputs": [
    {
     "name": "stdout",
     "output_type": "stream",
     "text": [
      "\n",
      "Age\n"
     ]
    },
    {
     "ename": "KeyError",
     "evalue": "'Age'",
     "output_type": "error",
     "traceback": [
      "\u001b[1;31m---------------------------------------------------------------------------\u001b[0m",
      "\u001b[1;31mKeyError\u001b[0m                                  Traceback (most recent call last)",
      "Cell \u001b[1;32mIn[5], line 1\u001b[0m\n\u001b[1;32m----> 1\u001b[0m \u001b[43mvis\u001b[49m\u001b[38;5;241;43m.\u001b[39;49m\u001b[43mshow_stats\u001b[49m\u001b[43m(\u001b[49m\u001b[43mdata\u001b[49m\u001b[43m \u001b[49m\u001b[38;5;241;43m=\u001b[39;49m\u001b[43m \u001b[49m\u001b[43mdata\u001b[49m\u001b[43m,\u001b[49m\u001b[43m \u001b[49m\u001b[43mwhite_list_features\u001b[49m\u001b[38;5;241;43m=\u001b[39;49m\u001b[43m \u001b[49m\u001b[43m[\u001b[49m\u001b[38;5;124;43m'\u001b[39;49m\u001b[38;5;124;43mAge\u001b[39;49m\u001b[38;5;124;43m'\u001b[39;49m\u001b[43m,\u001b[49m\u001b[43m \u001b[49m\u001b[38;5;124;43m'\u001b[39;49m\u001b[38;5;124;43mfnlwgt\u001b[39;49m\u001b[38;5;124;43m'\u001b[39;49m\u001b[43m,\u001b[49m\u001b[43m \u001b[49m\u001b[38;5;124;43m'\u001b[39;49m\u001b[38;5;124;43mHours per week\u001b[39;49m\u001b[38;5;124;43m'\u001b[39;49m\u001b[43m]\u001b[49m\u001b[43m)\u001b[49m\n",
      "File \u001b[1;32mC:\\tools\\NVFlare\\nvflare\\app_opt\\statistics\\visualization\\statistics_visualization.py:50\u001b[0m, in \u001b[0;36mVisualization.show_stats\u001b[1;34m(self, data, white_list_features)\u001b[0m\n\u001b[0;32m     48\u001b[0m \u001b[38;5;28;01mfor\u001b[39;00m feature \u001b[38;5;129;01min\u001b[39;00m target_features:\n\u001b[0;32m     49\u001b[0m     \u001b[38;5;28mprint\u001b[39m(\u001b[38;5;124mf\u001b[39m\u001b[38;5;124m\"\u001b[39m\u001b[38;5;130;01m\\n\u001b[39;00m\u001b[38;5;132;01m{\u001b[39;00mfeature\u001b[38;5;132;01m}\u001b[39;00m\u001b[38;5;130;01m\\n\u001b[39;00m\u001b[38;5;124m\"\u001b[39m)\n\u001b[1;32m---> 50\u001b[0m     feature_metrics \u001b[38;5;241m=\u001b[39m \u001b[43mdata\u001b[49m\u001b[43m[\u001b[49m\u001b[43mfeature\u001b[49m\u001b[43m]\u001b[49m\n\u001b[0;32m     51\u001b[0m     converted \u001b[38;5;241m=\u001b[39m convert_data(feature_metrics)\n\u001b[0;32m     52\u001b[0m     df \u001b[38;5;241m=\u001b[39m pd\u001b[38;5;241m.\u001b[39mDataFrame\u001b[38;5;241m.\u001b[39mfrom_dict(converted)\n",
      "\u001b[1;31mKeyError\u001b[0m: 'Age'"
     ]
    }
   ],
   "source": [
    "vis.show_stats(data = data, white_list_features= ['Age', 'fnlwgt', 'Hours per week'])"
   ]
  },
  {
   "cell_type": "markdown",
   "id": "95e42829",
   "metadata": {},
   "source": [
    "### Histogram Visualization\n",
    "We can use vis.show_histograms() to visualize the histogram. Before we do that, we need set some iPython display setting to make sure the graph displayed in full cell. "
   ]
  },
  {
   "cell_type": "code",
   "execution_count": null,
   "id": "fcdfb197",
   "metadata": {
    "ExecuteTime": {
     "start_time": "2024-03-27T14:43:29.343562400Z"
    },
    "tags": []
   },
   "outputs": [],
   "source": [
    "from IPython.display import display, HTML\n",
    "display(HTML(\"<style>.container { width:100%  depth:100% !important; }</style>\"))"
   ]
  },
  {
   "cell_type": "markdown",
   "id": "3e86860e",
   "metadata": {},
   "source": [
    "The following command display histograms for numberic features. The result shows both main plot and show sub-plots"
   ]
  },
  {
   "cell_type": "code",
   "execution_count": null,
   "id": "f3dd3821",
   "metadata": {
    "ExecuteTime": {
     "start_time": "2024-03-27T14:43:29.349564400Z"
    },
    "tags": []
   },
   "outputs": [],
   "source": [
    "vis.show_histograms(data = data)"
   ]
  },
  {
   "cell_type": "markdown",
   "id": "49b74579",
   "metadata": {},
   "source": [
    "# Display Options\n",
    "Similar to other statistics, we can use white_list_features to select only few features to display histograms. We can also use display_format=\"percent\" to allow all dataset and sites to be displayed in the same scale. User can set \n",
    "\n",
    "* display_format: \"percent\" or \"sample_count\"\n",
    "* white_list_features: feature names\n",
    "* plot_type : \"both\" or \"main\" or \"subplot\"\n",
    "\n",
    "#### show percent display format with selected features\n",
    "In the following, we display only feature \"Age\" in \"percent\" display_format, with \"both\" plot_type"
   ]
  },
  {
   "cell_type": "code",
   "execution_count": null,
   "id": "e07b9266",
   "metadata": {
    "ExecuteTime": {
     "start_time": "2024-03-27T14:43:29.354560600Z"
    }
   },
   "outputs": [],
   "source": [
    "vis.show_histograms(data = data, display_format = \"percent\", white_list_features= ['Age'])"
   ]
  },
  {
   "cell_type": "markdown",
   "id": "cddf21af",
   "metadata": {},
   "source": [
    "#### display main plot_type with selected features\n",
    "In this example, we display two features in \"sample_counts\" display_format, with \"main\" plot_type"
   ]
  },
  {
   "cell_type": "code",
   "execution_count": null,
   "id": "038e238e",
   "metadata": {
    "ExecuteTime": {
     "start_time": "2024-03-27T14:43:29.360558600Z"
    }
   },
   "outputs": [],
   "source": [
    "vis.show_histograms(data, \"sample_counts\", ['Age', 'Hours per week' ], plot_type=\"main\")"
   ]
  },
  {
   "cell_type": "markdown",
   "id": "b06195ac",
   "metadata": {},
   "source": [
    "#### selected features with subplot plot_type\n",
    "In next example, we display one feature in \"sample_counts\" display_format, with \"subplot\" plot_type"
   ]
  },
  {
   "cell_type": "code",
   "execution_count": null,
   "id": "8958e124",
   "metadata": {
    "ExecuteTime": {
     "start_time": "2024-03-27T14:43:29.368559200Z"
    }
   },
   "outputs": [],
   "source": [
    "vis.show_histograms(data, \"sample_counts\", ['Age', 'Hours per week' ], plot_type=\"subplot\")"
   ]
  },
  {
   "cell_type": "markdown",
   "id": "2f330eb6",
   "metadata": {},
   "source": [
    "### Tip: Avoid repeated calculation\n",
    "If you intend to plot histogram main plot and subplot separately, repeated calling show_histogram with different plot_types is not efficicent, as it repeatewd calculate the same set of Dataframes. To do it efficiently, you can use the following functions instead show_histogram methods. This avoid the duplicated calculation in show_histograms. But if you intend to show both plots, the show_histogram() should be used"
   ]
  },
  {
   "cell_type": "code",
   "execution_count": null,
   "id": "395315a4",
   "metadata": {
    "ExecuteTime": {
     "start_time": "2024-03-27T14:43:29.373557300Z"
    }
   },
   "outputs": [],
   "source": [
    " feature_dfs = vis.get_histogram_dataframes(data, display_format=\"percent\" )\n",
    "   \n",
    " vis.show_dataframe_plots(feature_dfs, plot_type=\"main\")  "
   ]
  }
 ],
 "metadata": {
  "kernelspec": {
   "display_name": "Python 3 (ipykernel)",
   "language": "python",
   "name": "python3"
  },
  "language_info": {
   "codemirror_mode": {
    "name": "ipython",
    "version": 3
   },
   "file_extension": ".py",
   "mimetype": "text/x-python",
   "name": "python",
   "nbconvert_exporter": "python",
   "pygments_lexer": "ipython3",
   "version": "3.10.11"
  }
 },
 "nbformat": 4,
 "nbformat_minor": 5
}
